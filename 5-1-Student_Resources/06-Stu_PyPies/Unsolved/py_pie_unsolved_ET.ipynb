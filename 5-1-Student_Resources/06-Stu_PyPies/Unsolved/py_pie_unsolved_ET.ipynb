{
 "cells": [
  {
   "cell_type": "code",
   "execution_count": 1,
   "metadata": {},
   "outputs": [],
   "source": [
    "%matplotlib inline"
   ]
  },
  {
   "cell_type": "code",
   "execution_count": 2,
   "metadata": {},
   "outputs": [],
   "source": [
    "import matplotlib.pyplot as plt\n",
    "import numpy as np"
   ]
  },
  {
   "cell_type": "code",
   "execution_count": 3,
   "metadata": {},
   "outputs": [],
   "source": [
    "pies = [\"Apple\", \"Pumpkin\", \"Chocolate Creme\", \"Cherry\", \"Apple Crumb\",\n",
    "        \"Pecan\", \"Lemon Meringue\", \"Blueberry\", \"Key Lime\", \"Peach\"]\n",
    "pie_votes = [47, 37, 32, 27, 25, 24, 24, 21, 18, 16]\n",
    "colors = [\"yellow\", \"green\", \"lightblue\", \"orange\", \"red\",\n",
    "          \"purple\", \"pink\", \"yellowgreen\", \"lightskyblue\", \"lightcoral\"]\n",
    "explode = (0.1, 0, 0, 0, 0, 0, 0, 0, 0, 0)"
   ]
  },
  {
   "cell_type": "code",
   "execution_count": 4,
   "metadata": {},
   "outputs": [
    {
     "data": {
      "text/plain": [
       "([<matplotlib.patches.Wedge at 0x206e292f148>,\n",
       "  <matplotlib.patches.Wedge at 0x206e29ff688>,\n",
       "  <matplotlib.patches.Wedge at 0x206e29ffc48>,\n",
       "  <matplotlib.patches.Wedge at 0x206e30b43c8>,\n",
       "  <matplotlib.patches.Wedge at 0x206e30b4f48>,\n",
       "  <matplotlib.patches.Wedge at 0x206e30bba08>,\n",
       "  <matplotlib.patches.Wedge at 0x206e30c2488>,\n",
       "  <matplotlib.patches.Wedge at 0x206e30c2f48>,\n",
       "  <matplotlib.patches.Wedge at 0x206e30b4e88>,\n",
       "  <matplotlib.patches.Wedge at 0x206e30bb948>],\n",
       " [Text(0.9407244776875024, 0.5701205636350752, ''),\n",
       "  Text(0.05735726849611128, 1.09850359296211, ''),\n",
       "  Text(-0.7479674586409076, 0.8065635007947375, ''),\n",
       "  Text(-1.089373615913045, 0.15252909542948812, ''),\n",
       "  Text(-0.9838422833834903, -0.4919902046044819, ''),\n",
       "  Text(-0.5646582368856444, -0.9440132814305081, ''),\n",
       "  Text(0.01912687718954555, -1.0998336976875078, ''),\n",
       "  Text(0.5646583473667685, -0.944013215346602, ''),\n",
       "  Text(0.9203321626800092, -0.602485444087023, ''),\n",
       "  Text(1.0811323446420116, -0.20286166066772365, '')])"
      ]
     },
     "execution_count": 4,
     "metadata": {},
     "output_type": "execute_result"
    },
    {
     "data": {
      "image/png": "[encoded data removed]",
      "text/plain": [
       "<Figure size 432x288 with 1 Axes>"
      ]
     },
     "metadata": {},
     "output_type": "display_data"
    }
   ],
   "source": [
    "# Tell matplotlib to create a pie chart based upon the above data\n",
    "plt.pie(pie_votes)\n",
    "# Create axes which are equal so we have a perfect circle\n",
    "\n",
    "# Save an image of our chart and print the final product to the screen\n",
    "\n"
   ]
  },
  {
   "cell_type": "code",
   "execution_count": null,
   "metadata": {},
   "outputs": [],
   "source": []
  }
 ],
 "metadata": {
  "kernel_info": {
   "name": "python3"
  },
  "kernelspec": {
   "display_name": "Python 3",
   "language": "python",
   "name": "python3"
  },
  "language_info": {
   "codemirror_mode": {
    "name": "ipython",
    "version": 3
   },
   "file_extension": ".py",
   "mimetype": "text/x-python",
   "name": "python",
   "nbconvert_exporter": "python",
   "pygments_lexer": "ipython3",
   "version": "3.7.11"
  },
  "nteract": {
   "version": "0.11.9"
  }
 },
 "nbformat": 4,
 "nbformat_minor": 2
}
